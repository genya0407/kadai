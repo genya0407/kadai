{
 "cells": [
  {
   "cell_type": "code",
   "execution_count": 1,
   "metadata": {
    "collapsed": false
   },
   "outputs": [
    {
     "data": {
      "application/javascript": [
       "if(window['d3'] === undefined ||\n",
       "   window['Nyaplot'] === undefined){\n",
       "    var path = {\"d3\":\"https://cdnjs.cloudflare.com/ajax/libs/d3/3.5.5/d3.min\",\"downloadable\":\"http://cdn.rawgit.com/domitry/d3-downloadable/master/d3-downloadable\"};\n",
       "\n",
       "\n",
       "\n",
       "    var shim = {\"d3\":{\"exports\":\"d3\"},\"downloadable\":{\"exports\":\"downloadable\"}};\n",
       "\n",
       "    require.config({paths: path, shim:shim});\n",
       "\n",
       "\n",
       "require(['d3'], function(d3){window['d3']=d3;console.log('finished loading d3');require(['downloadable'], function(downloadable){window['downloadable']=downloadable;console.log('finished loading downloadable');\n",
       "\n",
       "\tvar script = d3.select(\"head\")\n",
       "\t    .append(\"script\")\n",
       "\t    .attr(\"src\", \"http://cdn.rawgit.com/domitry/Nyaplotjs/master/release/nyaplot.js\")\n",
       "\t    .attr(\"async\", true);\n",
       "\n",
       "\tscript[0][0].onload = script[0][0].onreadystatechange = function(){\n",
       "\n",
       "\n",
       "\t    var event = document.createEvent(\"HTMLEvents\");\n",
       "\t    event.initEvent(\"load_nyaplot\",false,false);\n",
       "\t    window.dispatchEvent(event);\n",
       "\t    console.log('Finished loading Nyaplotjs');\n",
       "\n",
       "\t};\n",
       "\n",
       "\n",
       "});});\n",
       "}\n"
      ],
      "text/plain": [
       "\"if(window['d3'] === undefined ||\\n   window['Nyaplot'] === undefined){\\n    var path = {\\\"d3\\\":\\\"https://cdnjs.cloudflare.com/ajax/libs/d3/3.5.5/d3.min\\\",\\\"downloadable\\\":\\\"http://cdn.rawgit.com/domitry/d3-downloadable/master/d3-downloadable\\\"};\\n\\n\\n\\n    var shim = {\\\"d3\\\":{\\\"exports\\\":\\\"d3\\\"},\\\"downloadable\\\":{\\\"exports\\\":\\\"downloadable\\\"}};\\n\\n    require.config({paths: path, shim:shim});\\n\\n\\nrequire(['d3'], function(d3){window['d3']=d3;console.log('finished loading d3');require(['downloadable'], function(downloadable){window['downloadable']=downloadable;console.log('finished loading downloadable');\\n\\n\\tvar script = d3.select(\\\"head\\\")\\n\\t    .append(\\\"script\\\")\\n\\t    .attr(\\\"src\\\", \\\"http://cdn.rawgit.com/domitry/Nyaplotjs/master/release/nyaplot.js\\\")\\n\\t    .attr(\\\"async\\\", true);\\n\\n\\tscript[0][0].onload = script[0][0].onreadystatechange = function(){\\n\\n\\n\\t    var event = document.createEvent(\\\"HTMLEvents\\\");\\n\\t    event.initEvent(\\\"load_nyaplot\\\",false,false);\\n\\t    window.dispatchEvent(event);\\n\\t    console.log('Finished loading Nyaplotjs');\\n\\n\\t};\\n\\n\\n});});\\n}\\n\""
      ]
     },
     "metadata": {},
     "output_type": "display_data"
    },
    {
     "data": {
      "text/plain": [
       ":plotly"
      ]
     },
     "execution_count": 1,
     "metadata": {},
     "output_type": "execute_result"
    }
   ],
   "source": [
    "require 'daru'\n",
    "require 'daru_plotting_plotly'\n",
    "\n",
    "Daru.plotting_library = :plotly"
   ]
  },
  {
   "cell_type": "code",
   "execution_count": 5,
   "metadata": {
    "collapsed": false
   },
   "outputs": [
    {
     "data": {
      "text/html": [
       "\n",
       "  <script>\n",
       "  requirejs.config({paths: { 'plotly': ['https://cdn.plot.ly/plotly-latest.min'] }})\n",
       "  </script>\n",
       "\n",
       "\n",
       "<div id=\"12f1bea8-133a-410d-9a19-b4253fe98763\" style=\"height: 100%; width: 100%;\"></div>\n",
       "\n",
       "<script>\n",
       " require(['plotly'], function(Plotly) { \n",
       "Plotly.newPlot(\n",
       "  '12f1bea8-133a-410d-9a19-b4253fe98763',\n",
       "  [{\"x\":[\"point 0\",\"point 1\",\"point 2\",\"point 3\",\"point 4\",\"point 5\"],\"y\":[0.05696202825440956,0.13291139621969678,0.3101265842067793,0.3101265803501817,0.13291138859042945,0.05696202237850174],\"type\":\"bar\",\"mode\":\"\",\"name\":0}],\n",
       "  {\"font\":{\"size\":22},\"yaxis\":{\"title\":\"存在確率\"},\"xaxis\":{\"title\":\"地点\"}},\n",
       "  {\"linkText\":\"Export to plot.ly\",\"showLink\":true}\n",
       ")\n",
       "\n",
       "window.addEventListener('resize', function() {\n",
       "  Plotly.Plots.resize(document.getElementById('12f1bea8-133a-410d-9a19-b4253fe98763'))\n",
       "})\n",
       " }) \n",
       "</script>"
      ],
      "text/plain": [
       "#<Plotly::Offline::HTML:0x007f81f315b838 @id=\"12f1bea8-133a-410d-9a19-b4253fe98763\", @data=[{:x=>[\"point 0\", \"point 1\", \"point 2\", \"point 3\", \"point 4\", \"point 5\"], :y=>[0.05696202825440956, 0.13291139621969678, 0.3101265842067793, 0.3101265803501817, 0.13291138859042945, 0.05696202237850174], :type=>:bar, :mode=>\"\", :name=>0}], @layout={:font=>{:size=>22}, :yaxis=>{:title=>\"存在確率\"}, :xaxis=>{:title=>\"地点\"}}, @config={:linkText=>\"Export to plot.ly\", :showLink=>true}, @embedded=true>"
      ]
     },
     "metadata": {},
     "output_type": "display_data"
    },
    {
     "data": {
      "text/html": [
       "\n",
       "  <script>\n",
       "  requirejs.config({paths: { 'plotly': ['https://cdn.plot.ly/plotly-latest.min'] }})\n",
       "  </script>\n",
       "\n",
       "\n",
       "<div id=\"6a2d51d9-b75b-469b-994c-f7c16c43b9ba\" style=\"height: 100%; width: 100%;\"></div>\n",
       "\n",
       "<script>\n",
       " require(['plotly'], function(Plotly) { \n",
       "Plotly.newPlot(\n",
       "  '6a2d51d9-b75b-469b-994c-f7c16c43b9ba',\n",
       "  [{\"x\":[\"point 0\",\"point 1\",\"point 2\",\"point 3\",\"point 4\",\"point 5\"],\"y\":[0.16688663769342368,0.16682769663444416,0.16672560772564388,0.16660772560768672,0.16650563669888832,0.16644669563991069],\"type\":\"bar\",\"mode\":\"\",\"name\":0}],\n",
       "  {\"font\":{\"size\":22},\"yaxis\":{\"title\":\"存在確率\"},\"xaxis\":{\"title\":\"地点\"}},\n",
       "  {\"linkText\":\"Export to plot.ly\",\"showLink\":true}\n",
       ")\n",
       "\n",
       "window.addEventListener('resize', function() {\n",
       "  Plotly.Plots.resize(document.getElementById('6a2d51d9-b75b-469b-994c-f7c16c43b9ba'))\n",
       "})\n",
       " }) \n",
       "</script>"
      ],
      "text/plain": [
       "#<Plotly::Offline::HTML:0x007f81f35588c8 @id=\"6a2d51d9-b75b-469b-994c-f7c16c43b9ba\", @data=[{:x=>[\"point 0\", \"point 1\", \"point 2\", \"point 3\", \"point 4\", \"point 5\"], :y=>[0.16688663769342368, 0.16682769663444416, 0.16672560772564388, 0.16660772560768672, 0.16650563669888832, 0.16644669563991069], :type=>:bar, :mode=>\"\", :name=>0}], @layout={:font=>{:size=>22}, :yaxis=>{:title=>\"存在確率\"}, :xaxis=>{:title=>\"地点\"}}, @config={:linkText=>\"Export to plot.ly\", :showLink=>true}, @embedded=true>"
      ]
     },
     "metadata": {},
     "output_type": "display_data"
    },
    {
     "data": {
      "text/html": [
       "\n",
       "  <script>\n",
       "  requirejs.config({paths: { 'plotly': ['https://cdn.plot.ly/plotly-latest.min'] }})\n",
       "  </script>\n",
       "\n",
       "\n",
       "<div id=\"718d44eb-b17e-404e-85b4-f47fa0314988\" style=\"height: 100%; width: 100%;\"></div>\n",
       "\n",
       "<script>\n",
       " require(['plotly'], function(Plotly) { \n",
       "Plotly.newPlot(\n",
       "  '718d44eb-b17e-404e-85b4-f47fa0314988',\n",
       "  [{\"x\":[\"point 0\",\"point 1\",\"point 2\",\"point 3\",\"point 4\",\"point 5\"],\"y\":[0.20231605048573176,0.16528423009786702,0.13482958072383122,0.13427340930939075,0.16361942438718344,0.19967730499599812],\"type\":\"bar\",\"mode\":\"\",\"name\":0}],\n",
       "  {\"font\":{\"size\":22},\"yaxis\":{\"title\":\"存在確率\"},\"xaxis\":{\"title\":\"地点\"}},\n",
       "  {\"linkText\":\"Export to plot.ly\",\"showLink\":true}\n",
       ")\n",
       "\n",
       "window.addEventListener('resize', function() {\n",
       "  Plotly.Plots.resize(document.getElementById('718d44eb-b17e-404e-85b4-f47fa0314988'))\n",
       "})\n",
       " }) \n",
       "</script>"
      ],
      "text/plain": [
       "#<Plotly::Offline::HTML:0x007f81f4c817e8 @id=\"718d44eb-b17e-404e-85b4-f47fa0314988\", @data=[{:x=>[\"point 0\", \"point 1\", \"point 2\", \"point 3\", \"point 4\", \"point 5\"], :y=>[0.20231605048573176, 0.16528423009786702, 0.13482958072383122, 0.13427340930939075, 0.16361942438718344, 0.19967730499599812], :type=>:bar, :mode=>\"\", :name=>0}], @layout={:font=>{:size=>22}, :yaxis=>{:title=>\"存在確率\"}, :xaxis=>{:title=>\"地点\"}}, @config={:linkText=>\"Export to plot.ly\", :showLink=>true}, @embedded=true>"
      ]
     },
     "metadata": {},
     "output_type": "display_data"
    }
   ],
   "source": [
    "['0.7', '0.5', '0.45'].each do |c|\n",
    "  Daru::DataFrame.from_csv(\"./c_#{c}.csv\").filter_rows { |row| row['t'] == 60 }.tap do |df|\n",
    "    df.delete_vector 't'\n",
    "    df.index = [:prob]\n",
    "    t_df = df.transpose\n",
    "    t_df.add_vector :name, df.vectors.to_a\n",
    "    t_df.plot(type: :bar, x: :name, y: :prob).tap do |plot|\n",
    "      plot.layout.title = \"c=#{c}\"\n",
    "      plot.layout = {font: { size: 22 }}\n",
    "      plot.layout.yaxis = { title: '存在確率' }\n",
    "      plot.layout.xaxis = { title: '地点' }\n",
    "      plot.show\n",
    "    end\n",
    "  end\n",
    "end\n",
    "nil"
   ]
  },
  {
   "cell_type": "markdown",
   "metadata": {},
   "source": [
    "# 考察\n",
    "\n",
    "問の表１について、各列の確率を足し合わせると、\n",
    "\n",
    "- 点0,5に移動してくる確率の合計$P_x = s + 2(1-s)(1-c)$\n",
    "- 点1,4に移動してくる確率の合計$P_y = s + 2(1-s)1 = 1$\n",
    "- 点2,3に移動してくる確率の合計$P_z = s + 2(1-s)c$\n",
    "\n",
    "のように表せる。\n",
    "\n",
    "これを見るとわかるように、$c = 0.5$のとき、$P_x, P_y, P_z$のどれについても$1$となるので、定常状態においては、どの点にいる確率も等しくなると考えられる。\n",
    "\n",
    "また、$c > 0.5$のとき、$P_x < P_y < P_z$となるので、定常状態においても、点0,5にいる確率が一番小さく、点2,3にいる確率が一番大きいと考えられる。\n",
    "\n",
    "同様に、$c < 0.5$のとき、$P_x > P_y > P_z$となることから、それぞれ、定常状態においては、点0,5にいる確率が一番大きく、点2,3にいる確率が一番小さいと考えられる。"
   ]
  }
 ],
 "metadata": {
  "kernelspec": {
   "display_name": "Ruby 2.3.0",
   "language": "ruby",
   "name": "ruby"
  },
  "language_info": {
   "file_extension": ".rb",
   "mimetype": "application/x-ruby",
   "name": "ruby",
   "version": "2.3.0"
  }
 },
 "nbformat": 4,
 "nbformat_minor": 0
}
