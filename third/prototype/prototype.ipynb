{
 "cells": [
  {
   "cell_type": "code",
   "execution_count": 1,
   "metadata": {
    "collapsed": false
   },
   "outputs": [
    {
     "data": {
      "text/plain": [
       "true"
      ]
     },
     "execution_count": 1,
     "metadata": {},
     "output_type": "execute_result"
    }
   ],
   "source": [
    "require 'rbplotly'"
   ]
  },
  {
   "cell_type": "markdown",
   "metadata": {},
   "source": [
    "# ベクトルの定義"
   ]
  },
  {
   "cell_type": "code",
   "execution_count": 2,
   "metadata": {
    "collapsed": false
   },
   "outputs": [
    {
     "data": {
      "text/plain": [
       ":to_v"
      ]
     },
     "execution_count": 2,
     "metadata": {},
     "output_type": "execute_result"
    }
   ],
   "source": [
    "class MyVector < Array\n",
    "  def *(scalar)\n",
    "    self.map{ |elem| elem * scalar }.to_v\n",
    "  end\n",
    "  \n",
    "  def +(other)\n",
    "    self.zip(other).map { |self_elem, other_elem| self_elem + other_elem }.to_v\n",
    "  end\n",
    "  \n",
    "  def -(other)\n",
    "    self + (other * -1)\n",
    "  end\n",
    "  \n",
    "  def /(scalar)\n",
    "    self.map { |elem| elem / scalar }.to_v\n",
    "  end\n",
    "  \n",
    "  def norm\n",
    "    Math.sqrt(self.sum { |elem| elem**2 })\n",
    "  end\n",
    "end\n",
    "\n",
    "class Array\n",
    "  def to_v\n",
    "    MyVector.new(self)\n",
    "  end\n",
    "=begin\n",
    "  def sum\n",
    "    if block_given?\n",
    "      self.map { |elem| yield(elem) }.reduce(:+)\n",
    "    else\n",
    "      self.reduce(:+)\n",
    "    end\n",
    "  end\n",
    "=end\n",
    "end"
   ]
  },
  {
   "cell_type": "markdown",
   "metadata": {},
   "source": [
    "# 傾きを出す関数f\n",
    "\n",
    "$$\n",
    "\\frac{d {\\bf y} }{dt} = f({\\bf y})\n",
    "$$\n"
   ]
  },
  {
   "cell_type": "code",
   "execution_count": 3,
   "metadata": {
    "collapsed": false
   },
   "outputs": [
    {
     "data": {
      "text/plain": [
       ":f"
      ]
     },
     "execution_count": 3,
     "metadata": {},
     "output_type": "execute_result"
    }
   ],
   "source": [
    "def f(y)\n",
    "  r1, r2, v1, v2 = y\n",
    "  return [v1, v2, v2, -v1].to_v\n",
    "end"
   ]
  },
  {
   "cell_type": "markdown",
   "metadata": {},
   "source": [
    "# calculate関数\n",
    "\n",
    "dt、max_t(tの最大値)を引数として与え、数値解析アルゴリズムをブロックで与えると、ts, rc, ra, errを返す。\n",
    "\n",
    "- 数値解析アルゴリズムのブロック\n",
    "    - tsとdtを与えると、ysを返すブロック\n",
    "- ts\n",
    "    - $t=0$から、dtを一つづつ足していった配列を返す(0, dt, 2dt, 3dt, ... < max_t)。\n",
    "- rc\n",
    "    - 数値解の配列。$t=0, dt, 2dt, 3dt ...$に対応している。\n",
    "- ra\n",
    "    - 解析解の配列。$t=0, dt, 2dt, 3dt ...$に対応している。\n",
    "- err\n",
    "    - $\\left| {\\rm r_a}(t) - {\\rm r_c}(t) \\right|$の配列。$t=0, dt, 2dt, 3dt ...$に対応している。"
   ]
  },
  {
   "cell_type": "code",
   "execution_count": 4,
   "metadata": {
    "collapsed": false
   },
   "outputs": [
    {
     "data": {
      "text/plain": [
       ":calculate"
      ]
     },
     "execution_count": 4,
     "metadata": {},
     "output_type": "execute_result"
    }
   ],
   "source": [
    "def calculate(dt, max_t, &ys_block)\n",
    "  ts = (0..Float::INFINITY).lazy.map{ |i| i * dt }.take_while { |t| t < max_t }.to_a\n",
    "\n",
    "  ys = ys_block.call(ts, dt)\n",
    "\n",
    "  rc = [ ys.transpose[0], ys.transpose[1] ]\n",
    "  ra = [ ts.map{ |t| - Math.cos(t) }, ts.map{ |t| Math.sin(t) } ]\n",
    "  err = (rc.transpose).zip(ra.transpose).map { |_rc, _ra| (_rc.to_v - _ra.to_v).norm }\n",
    "\n",
    "  return ts, rc, ra, err\n",
    "end"
   ]
  },
  {
   "cell_type": "markdown",
   "metadata": {},
   "source": [
    "# all_calculations関数\n",
    "\n",
    "period(周期)、max_tを引数として与え、数値解析アルゴリズムをブロックで与えると、ts, rc, ra, err, p_errを返す。\n",
    "\n",
    "内部的にはcalculate関数を呼ぶが、そのときのdtは$\\frac{{\\rm period}}{64}$である。\n",
    "\n",
    "ts, rc, ra, errは、calculateと同じ値となる。\n",
    "\n",
    "p_errは、課題3.2における$p$の値と$E_r$の配列である。([[$p$, $E_r$],[$p$,$E_r$],[$p$,$E_r$]])"
   ]
  },
  {
   "cell_type": "code",
   "execution_count": 5,
   "metadata": {
    "collapsed": false
   },
   "outputs": [
    {
     "data": {
      "text/plain": [
       ":all_calculations"
      ]
     },
     "execution_count": 5,
     "metadata": {},
     "output_type": "execute_result"
    }
   ],
   "source": [
    "def all_calculations(period, max_t, &ys_block)\n",
    "  p_err = (3..30).map do |p|\n",
    "    _, _, _, err = calculate(period * 2**(-p), period, &ys_block)\n",
    "    [p, err.max]\n",
    "  end\n",
    "  \n",
    "  ts, rc, ra, err = calculate(period/64, max_t, &ys_block)\n",
    "  \n",
    "  return ts, rc, ra, err, p_err\n",
    "end"
   ]
  },
  {
   "cell_type": "code",
   "execution_count": 6,
   "metadata": {
    "collapsed": false
   },
   "outputs": [
    {
     "data": {
      "text/plain": [
       ":draw_graphs"
      ]
     },
     "execution_count": 6,
     "metadata": {},
     "output_type": "execute_result"
    }
   ],
   "source": [
    "def draw_graphs(ts, rc, ra, err, p_err)\n",
    "  trace_rc = { x: rc[0], y: rc[1], name: 'rc' }\n",
    "  trace_ra = { x: ra[0], y: ra[1], name: 'ra' }\n",
    "\n",
    "  Plotly::Plot.new(data: [trace_rc, trace_ra], layout: { width: 500, height: 500 }).show\n",
    "\n",
    "  trace_error = { x: ts, y: err }\n",
    "  Plotly::Plot.new(data: [trace_error]).show\n",
    "  \n",
    "  trace_p_error = { x: p_err.transpose[0], y: p_err.transpose[1] }\n",
    "  Plotly::Plot.new(data: [trace_p_error], layout: { yaxis: { type: :log } }).show\n",
    "end"
   ]
  },
  {
   "cell_type": "code",
   "execution_count": 7,
   "metadata": {
    "collapsed": false
   },
   "outputs": [
    {
     "data": {
      "text/plain": [
       "6.4"
      ]
     },
     "execution_count": 7,
     "metadata": {},
     "output_type": "execute_result"
    }
   ],
   "source": [
    "period = 6.4"
   ]
  },
  {
   "cell_type": "code",
   "execution_count": 8,
   "metadata": {
    "collapsed": false
   },
   "outputs": [
    {
     "ename": "NoMethodError",
     "evalue": "undefined method `sum' for [0.0, 0.0]:MyVector",
     "output_type": "error",
     "traceback": [
      "\u001b[31mNoMethodError\u001b[0m: undefined method `sum' for [0.0, 0.0]:MyVector",
      "\u001b[37m<main>:18:in `norm'\u001b[0m",
      "\u001b[37m<main>:7:in `block in calculate'\u001b[0m",
      "\u001b[37m<main>:7:in `map'\u001b[0m",
      "\u001b[37m<main>:7:in `calculate'\u001b[0m",
      "\u001b[37m<main>:2:in `block in all_calculations'\u001b[0m",
      "\u001b[37m<main>:1:in `each'\u001b[0m",
      "\u001b[37m<main>:1:in `map'\u001b[0m",
      "\u001b[37m<main>:1:in `all_calculations'\u001b[0m",
      "\u001b[37m<main>:12:in `<main>'\u001b[0m",
      "\u001b[37m/Users/sangenya/.rbenv/versions/2.3.0-dev/lib/ruby/gems/2.3.0/gems/iruby-0.2.9/lib/iruby/backend.rb:44:in `eval'\u001b[0m",
      "\u001b[37m/Users/sangenya/.rbenv/versions/2.3.0-dev/lib/ruby/gems/2.3.0/gems/iruby-0.2.9/lib/iruby/backend.rb:44:in `eval'\u001b[0m",
      "\u001b[37m/Users/sangenya/.rbenv/versions/2.3.0-dev/lib/ruby/gems/2.3.0/gems/iruby-0.2.9/lib/iruby/backend.rb:12:in `eval'\u001b[0m",
      "\u001b[37m/Users/sangenya/.rbenv/versions/2.3.0-dev/lib/ruby/gems/2.3.0/gems/iruby-0.2.9/lib/iruby/kernel.rb:87:in `execute_request'\u001b[0m",
      "\u001b[37m/Users/sangenya/.rbenv/versions/2.3.0-dev/lib/ruby/gems/2.3.0/gems/iruby-0.2.9/lib/iruby/kernel.rb:47:in `dispatch'\u001b[0m",
      "\u001b[37m/Users/sangenya/.rbenv/versions/2.3.0-dev/lib/ruby/gems/2.3.0/gems/iruby-0.2.9/lib/iruby/kernel.rb:37:in `run'\u001b[0m",
      "\u001b[37m/Users/sangenya/.rbenv/versions/2.3.0-dev/lib/ruby/gems/2.3.0/gems/iruby-0.2.9/lib/iruby/command.rb:70:in `run_kernel'\u001b[0m",
      "\u001b[37m/Users/sangenya/.rbenv/versions/2.3.0-dev/lib/ruby/gems/2.3.0/gems/iruby-0.2.9/lib/iruby/command.rb:34:in `run'\u001b[0m",
      "\u001b[37m/Users/sangenya/.rbenv/versions/2.3.0-dev/lib/ruby/gems/2.3.0/gems/iruby-0.2.9/bin/iruby:5:in `<top (required)>'\u001b[0m",
      "\u001b[37m/Users/sangenya/.rbenv/versions/2.3.0-dev/bin/iruby:22:in `load'\u001b[0m",
      "\u001b[37m/Users/sangenya/.rbenv/versions/2.3.0-dev/bin/iruby:22:in `<main>'\u001b[0m"
     ]
    }
   ],
   "source": [
    "ts, rc, ra, err, p_err = all_calculations(period, period*5) do |ts, dt|\n",
    "  ys = []\n",
    "  ts.each_with_index do |t, i|\n",
    "    if i == 0\n",
    "      yn =[-1.0, 0, 0, 1.0].to_v # 初期値\n",
    "    else\n",
    "      yn = ys.last + f(ys.last) * dt\n",
    "    end\n",
    "    ys.push(yn)\n",
    "  end\n",
    "  ys\n",
    "end\n",
    "nil"
   ]
  },
  {
   "cell_type": "code",
   "execution_count": 9,
   "metadata": {
    "collapsed": false
   },
   "outputs": [
    {
     "ename": "NoMethodError",
     "evalue": "undefined method `[]' for nil:NilClass",
     "output_type": "error",
     "traceback": [
      "\u001b[31mNoMethodError\u001b[0m: undefined method `[]' for nil:NilClass",
      "\u001b[37m<main>:1:in `draw_graphs'\u001b[0m",
      "\u001b[37m<main>:in `<main>'\u001b[0m",
      "\u001b[37m/Users/sangenya/.rbenv/versions/2.3.0-dev/lib/ruby/gems/2.3.0/gems/iruby-0.2.9/lib/iruby/backend.rb:44:in `eval'\u001b[0m",
      "\u001b[37m/Users/sangenya/.rbenv/versions/2.3.0-dev/lib/ruby/gems/2.3.0/gems/iruby-0.2.9/lib/iruby/backend.rb:44:in `eval'\u001b[0m",
      "\u001b[37m/Users/sangenya/.rbenv/versions/2.3.0-dev/lib/ruby/gems/2.3.0/gems/iruby-0.2.9/lib/iruby/backend.rb:12:in `eval'\u001b[0m",
      "\u001b[37m/Users/sangenya/.rbenv/versions/2.3.0-dev/lib/ruby/gems/2.3.0/gems/iruby-0.2.9/lib/iruby/kernel.rb:87:in `execute_request'\u001b[0m",
      "\u001b[37m/Users/sangenya/.rbenv/versions/2.3.0-dev/lib/ruby/gems/2.3.0/gems/iruby-0.2.9/lib/iruby/kernel.rb:47:in `dispatch'\u001b[0m",
      "\u001b[37m/Users/sangenya/.rbenv/versions/2.3.0-dev/lib/ruby/gems/2.3.0/gems/iruby-0.2.9/lib/iruby/kernel.rb:37:in `run'\u001b[0m",
      "\u001b[37m/Users/sangenya/.rbenv/versions/2.3.0-dev/lib/ruby/gems/2.3.0/gems/iruby-0.2.9/lib/iruby/command.rb:70:in `run_kernel'\u001b[0m",
      "\u001b[37m/Users/sangenya/.rbenv/versions/2.3.0-dev/lib/ruby/gems/2.3.0/gems/iruby-0.2.9/lib/iruby/command.rb:34:in `run'\u001b[0m",
      "\u001b[37m/Users/sangenya/.rbenv/versions/2.3.0-dev/lib/ruby/gems/2.3.0/gems/iruby-0.2.9/bin/iruby:5:in `<top (required)>'\u001b[0m",
      "\u001b[37m/Users/sangenya/.rbenv/versions/2.3.0-dev/bin/iruby:22:in `load'\u001b[0m",
      "\u001b[37m/Users/sangenya/.rbenv/versions/2.3.0-dev/bin/iruby:22:in `<main>'\u001b[0m"
     ]
    }
   ],
   "source": [
    "draw_graphs(ts, rc, ra, err, p_err)"
   ]
  },
  {
   "cell_type": "code",
   "execution_count": 10,
   "metadata": {
    "collapsed": false
   },
   "outputs": [
    {
     "ename": "NoMethodError",
     "evalue": "undefined method `sum' for [0.0, 0.0]:MyVector",
     "output_type": "error",
     "traceback": [
      "\u001b[31mNoMethodError\u001b[0m: undefined method `sum' for [0.0, 0.0]:MyVector",
      "\u001b[37m<main>:18:in `norm'\u001b[0m",
      "\u001b[37m<main>:7:in `block in calculate'\u001b[0m",
      "\u001b[37m<main>:7:in `map'\u001b[0m",
      "\u001b[37m<main>:7:in `calculate'\u001b[0m",
      "\u001b[37m<main>:2:in `block in all_calculations'\u001b[0m",
      "\u001b[37m<main>:1:in `each'\u001b[0m",
      "\u001b[37m<main>:1:in `map'\u001b[0m",
      "\u001b[37m<main>:1:in `all_calculations'\u001b[0m",
      "\u001b[37m<main>:13:in `<main>'\u001b[0m",
      "\u001b[37m/Users/sangenya/.rbenv/versions/2.3.0-dev/lib/ruby/gems/2.3.0/gems/iruby-0.2.9/lib/iruby/backend.rb:44:in `eval'\u001b[0m",
      "\u001b[37m/Users/sangenya/.rbenv/versions/2.3.0-dev/lib/ruby/gems/2.3.0/gems/iruby-0.2.9/lib/iruby/backend.rb:44:in `eval'\u001b[0m",
      "\u001b[37m/Users/sangenya/.rbenv/versions/2.3.0-dev/lib/ruby/gems/2.3.0/gems/iruby-0.2.9/lib/iruby/backend.rb:12:in `eval'\u001b[0m",
      "\u001b[37m/Users/sangenya/.rbenv/versions/2.3.0-dev/lib/ruby/gems/2.3.0/gems/iruby-0.2.9/lib/iruby/kernel.rb:87:in `execute_request'\u001b[0m",
      "\u001b[37m/Users/sangenya/.rbenv/versions/2.3.0-dev/lib/ruby/gems/2.3.0/gems/iruby-0.2.9/lib/iruby/kernel.rb:47:in `dispatch'\u001b[0m",
      "\u001b[37m/Users/sangenya/.rbenv/versions/2.3.0-dev/lib/ruby/gems/2.3.0/gems/iruby-0.2.9/lib/iruby/kernel.rb:37:in `run'\u001b[0m",
      "\u001b[37m/Users/sangenya/.rbenv/versions/2.3.0-dev/lib/ruby/gems/2.3.0/gems/iruby-0.2.9/lib/iruby/command.rb:70:in `run_kernel'\u001b[0m",
      "\u001b[37m/Users/sangenya/.rbenv/versions/2.3.0-dev/lib/ruby/gems/2.3.0/gems/iruby-0.2.9/lib/iruby/command.rb:34:in `run'\u001b[0m",
      "\u001b[37m/Users/sangenya/.rbenv/versions/2.3.0-dev/lib/ruby/gems/2.3.0/gems/iruby-0.2.9/bin/iruby:5:in `<top (required)>'\u001b[0m",
      "\u001b[37m/Users/sangenya/.rbenv/versions/2.3.0-dev/bin/iruby:22:in `load'\u001b[0m",
      "\u001b[37m/Users/sangenya/.rbenv/versions/2.3.0-dev/bin/iruby:22:in `<main>'\u001b[0m"
     ]
    }
   ],
   "source": [
    "ts, rc, ra, err, p_err = all_calculations(period, period*5) do |ts, dt|\n",
    "  ys = []\n",
    "  ts.each_with_index do |t, i|\n",
    "    if i == 0\n",
    "      yn = [-1.0, 0, 0, 1.0].to_v\n",
    "    else\n",
    "      ys_1 = ys.last + f(ys.last) * dt\n",
    "      yn = ys.last + (f(ys_1) + f(ys.last)) * (1.0/2) * dt\n",
    "    end\n",
    "    ys.push(yn)\n",
    "  end\n",
    "  ys\n",
    "end\n",
    "nil"
   ]
  },
  {
   "cell_type": "code",
   "execution_count": 11,
   "metadata": {
    "collapsed": false
   },
   "outputs": [
    {
     "ename": "NoMethodError",
     "evalue": "undefined method `[]' for nil:NilClass",
     "output_type": "error",
     "traceback": [
      "\u001b[31mNoMethodError\u001b[0m: undefined method `[]' for nil:NilClass",
      "\u001b[37m<main>:1:in `draw_graphs'\u001b[0m",
      "\u001b[37m<main>:in `<main>'\u001b[0m",
      "\u001b[37m/Users/sangenya/.rbenv/versions/2.3.0-dev/lib/ruby/gems/2.3.0/gems/iruby-0.2.9/lib/iruby/backend.rb:44:in `eval'\u001b[0m",
      "\u001b[37m/Users/sangenya/.rbenv/versions/2.3.0-dev/lib/ruby/gems/2.3.0/gems/iruby-0.2.9/lib/iruby/backend.rb:44:in `eval'\u001b[0m",
      "\u001b[37m/Users/sangenya/.rbenv/versions/2.3.0-dev/lib/ruby/gems/2.3.0/gems/iruby-0.2.9/lib/iruby/backend.rb:12:in `eval'\u001b[0m",
      "\u001b[37m/Users/sangenya/.rbenv/versions/2.3.0-dev/lib/ruby/gems/2.3.0/gems/iruby-0.2.9/lib/iruby/kernel.rb:87:in `execute_request'\u001b[0m",
      "\u001b[37m/Users/sangenya/.rbenv/versions/2.3.0-dev/lib/ruby/gems/2.3.0/gems/iruby-0.2.9/lib/iruby/kernel.rb:47:in `dispatch'\u001b[0m",
      "\u001b[37m/Users/sangenya/.rbenv/versions/2.3.0-dev/lib/ruby/gems/2.3.0/gems/iruby-0.2.9/lib/iruby/kernel.rb:37:in `run'\u001b[0m",
      "\u001b[37m/Users/sangenya/.rbenv/versions/2.3.0-dev/lib/ruby/gems/2.3.0/gems/iruby-0.2.9/lib/iruby/command.rb:70:in `run_kernel'\u001b[0m",
      "\u001b[37m/Users/sangenya/.rbenv/versions/2.3.0-dev/lib/ruby/gems/2.3.0/gems/iruby-0.2.9/lib/iruby/command.rb:34:in `run'\u001b[0m",
      "\u001b[37m/Users/sangenya/.rbenv/versions/2.3.0-dev/lib/ruby/gems/2.3.0/gems/iruby-0.2.9/bin/iruby:5:in `<top (required)>'\u001b[0m",
      "\u001b[37m/Users/sangenya/.rbenv/versions/2.3.0-dev/bin/iruby:22:in `load'\u001b[0m",
      "\u001b[37m/Users/sangenya/.rbenv/versions/2.3.0-dev/bin/iruby:22:in `<main>'\u001b[0m"
     ]
    }
   ],
   "source": [
    "draw_graphs(ts, rc, ra, err, p_err)"
   ]
  },
  {
   "cell_type": "code",
   "execution_count": 12,
   "metadata": {
    "collapsed": false
   },
   "outputs": [
    {
     "ename": "NoMethodError",
     "evalue": "undefined method `sum' for [0.0, 0.0]:MyVector",
     "output_type": "error",
     "traceback": [
      "\u001b[31mNoMethodError\u001b[0m: undefined method `sum' for [0.0, 0.0]:MyVector",
      "\u001b[37m<main>:18:in `norm'\u001b[0m",
      "\u001b[37m<main>:7:in `block in calculate'\u001b[0m",
      "\u001b[37m<main>:7:in `map'\u001b[0m",
      "\u001b[37m<main>:7:in `calculate'\u001b[0m",
      "\u001b[37m<main>:2:in `block in all_calculations'\u001b[0m",
      "\u001b[37m<main>:1:in `each'\u001b[0m",
      "\u001b[37m<main>:1:in `map'\u001b[0m",
      "\u001b[37m<main>:1:in `all_calculations'\u001b[0m",
      "\u001b[37m<main>:17:in `<main>'\u001b[0m",
      "\u001b[37m/Users/sangenya/.rbenv/versions/2.3.0-dev/lib/ruby/gems/2.3.0/gems/iruby-0.2.9/lib/iruby/backend.rb:44:in `eval'\u001b[0m",
      "\u001b[37m/Users/sangenya/.rbenv/versions/2.3.0-dev/lib/ruby/gems/2.3.0/gems/iruby-0.2.9/lib/iruby/backend.rb:44:in `eval'\u001b[0m",
      "\u001b[37m/Users/sangenya/.rbenv/versions/2.3.0-dev/lib/ruby/gems/2.3.0/gems/iruby-0.2.9/lib/iruby/backend.rb:12:in `eval'\u001b[0m",
      "\u001b[37m/Users/sangenya/.rbenv/versions/2.3.0-dev/lib/ruby/gems/2.3.0/gems/iruby-0.2.9/lib/iruby/kernel.rb:87:in `execute_request'\u001b[0m",
      "\u001b[37m/Users/sangenya/.rbenv/versions/2.3.0-dev/lib/ruby/gems/2.3.0/gems/iruby-0.2.9/lib/iruby/kernel.rb:47:in `dispatch'\u001b[0m",
      "\u001b[37m/Users/sangenya/.rbenv/versions/2.3.0-dev/lib/ruby/gems/2.3.0/gems/iruby-0.2.9/lib/iruby/kernel.rb:37:in `run'\u001b[0m",
      "\u001b[37m/Users/sangenya/.rbenv/versions/2.3.0-dev/lib/ruby/gems/2.3.0/gems/iruby-0.2.9/lib/iruby/command.rb:70:in `run_kernel'\u001b[0m",
      "\u001b[37m/Users/sangenya/.rbenv/versions/2.3.0-dev/lib/ruby/gems/2.3.0/gems/iruby-0.2.9/lib/iruby/command.rb:34:in `run'\u001b[0m",
      "\u001b[37m/Users/sangenya/.rbenv/versions/2.3.0-dev/lib/ruby/gems/2.3.0/gems/iruby-0.2.9/bin/iruby:5:in `<top (required)>'\u001b[0m",
      "\u001b[37m/Users/sangenya/.rbenv/versions/2.3.0-dev/bin/iruby:22:in `load'\u001b[0m",
      "\u001b[37m/Users/sangenya/.rbenv/versions/2.3.0-dev/bin/iruby:22:in `<main>'\u001b[0m"
     ]
    }
   ],
   "source": [
    "ts, rc, ra, err, p_err = all_calculations(period, period*5) do |ts, dt|\n",
    "  ys = []\n",
    "  ts.each_with_index do |t, i|\n",
    "    if i == 0\n",
    "      yn = [-1.0, 0, 0, 1.0].to_v\n",
    "    else\n",
    "      k1 = f(ys.last)\n",
    "      k2 = f(ys.last + k1 * (dt/2))\n",
    "      k3 = f(ys.last + k2 * (dt/2))\n",
    "      k4 = f(ys.last + k3 * dt)\n",
    "      k = (k1 + k2 * 2.0 + k3 * 2.0 + k4)/6.to_f\n",
    "      yn = ys.last + k * dt\n",
    "    end\n",
    "    ys.push(yn)\n",
    "  end\n",
    "  ys\n",
    "end\n",
    "nil"
   ]
  },
  {
   "cell_type": "code",
   "execution_count": 13,
   "metadata": {
    "collapsed": false
   },
   "outputs": [
    {
     "ename": "NoMethodError",
     "evalue": "undefined method `[]' for nil:NilClass",
     "output_type": "error",
     "traceback": [
      "\u001b[31mNoMethodError\u001b[0m: undefined method `[]' for nil:NilClass",
      "\u001b[37m<main>:1:in `draw_graphs'\u001b[0m",
      "\u001b[37m<main>:in `<main>'\u001b[0m",
      "\u001b[37m/Users/sangenya/.rbenv/versions/2.3.0-dev/lib/ruby/gems/2.3.0/gems/iruby-0.2.9/lib/iruby/backend.rb:44:in `eval'\u001b[0m",
      "\u001b[37m/Users/sangenya/.rbenv/versions/2.3.0-dev/lib/ruby/gems/2.3.0/gems/iruby-0.2.9/lib/iruby/backend.rb:44:in `eval'\u001b[0m",
      "\u001b[37m/Users/sangenya/.rbenv/versions/2.3.0-dev/lib/ruby/gems/2.3.0/gems/iruby-0.2.9/lib/iruby/backend.rb:12:in `eval'\u001b[0m",
      "\u001b[37m/Users/sangenya/.rbenv/versions/2.3.0-dev/lib/ruby/gems/2.3.0/gems/iruby-0.2.9/lib/iruby/kernel.rb:87:in `execute_request'\u001b[0m",
      "\u001b[37m/Users/sangenya/.rbenv/versions/2.3.0-dev/lib/ruby/gems/2.3.0/gems/iruby-0.2.9/lib/iruby/kernel.rb:47:in `dispatch'\u001b[0m",
      "\u001b[37m/Users/sangenya/.rbenv/versions/2.3.0-dev/lib/ruby/gems/2.3.0/gems/iruby-0.2.9/lib/iruby/kernel.rb:37:in `run'\u001b[0m",
      "\u001b[37m/Users/sangenya/.rbenv/versions/2.3.0-dev/lib/ruby/gems/2.3.0/gems/iruby-0.2.9/lib/iruby/command.rb:70:in `run_kernel'\u001b[0m",
      "\u001b[37m/Users/sangenya/.rbenv/versions/2.3.0-dev/lib/ruby/gems/2.3.0/gems/iruby-0.2.9/lib/iruby/command.rb:34:in `run'\u001b[0m",
      "\u001b[37m/Users/sangenya/.rbenv/versions/2.3.0-dev/lib/ruby/gems/2.3.0/gems/iruby-0.2.9/bin/iruby:5:in `<top (required)>'\u001b[0m",
      "\u001b[37m/Users/sangenya/.rbenv/versions/2.3.0-dev/bin/iruby:22:in `load'\u001b[0m",
      "\u001b[37m/Users/sangenya/.rbenv/versions/2.3.0-dev/bin/iruby:22:in `<main>'\u001b[0m"
     ]
    }
   ],
   "source": [
    "draw_graphs(ts, rc, ra, err, p_err)"
   ]
  }
 ],
 "metadata": {
  "kernelspec": {
   "display_name": "Ruby 2.3.2",
   "language": "ruby",
   "name": "ruby"
  },
  "language_info": {
   "file_extension": ".rb",
   "mimetype": "application/x-ruby",
   "name": "ruby",
   "version": "2.3.2"
  }
 },
 "nbformat": 4,
 "nbformat_minor": 0
}
