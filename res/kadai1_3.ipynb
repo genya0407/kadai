{
 "cells": [
  {
   "cell_type": "code",
   "execution_count": 1,
   "metadata": {
    "collapsed": false
   },
   "outputs": [
    {
     "data": {
      "application/javascript": [
       "if(window['d3'] === undefined ||\n",
       "   window['Nyaplot'] === undefined){\n",
       "    var path = {\"d3\":\"https://cdnjs.cloudflare.com/ajax/libs/d3/3.5.5/d3.min\",\"downloadable\":\"http://cdn.rawgit.com/domitry/d3-downloadable/master/d3-downloadable\"};\n",
       "\n",
       "\n",
       "\n",
       "    var shim = {\"d3\":{\"exports\":\"d3\"},\"downloadable\":{\"exports\":\"downloadable\"}};\n",
       "\n",
       "    require.config({paths: path, shim:shim});\n",
       "\n",
       "\n",
       "require(['d3'], function(d3){window['d3']=d3;console.log('finished loading d3');require(['downloadable'], function(downloadable){window['downloadable']=downloadable;console.log('finished loading downloadable');\n",
       "\n",
       "\tvar script = d3.select(\"head\")\n",
       "\t    .append(\"script\")\n",
       "\t    .attr(\"src\", \"http://cdn.rawgit.com/domitry/Nyaplotjs/master/release/nyaplot.js\")\n",
       "\t    .attr(\"async\", true);\n",
       "\n",
       "\tscript[0][0].onload = script[0][0].onreadystatechange = function(){\n",
       "\n",
       "\n",
       "\t    var event = document.createEvent(\"HTMLEvents\");\n",
       "\t    event.initEvent(\"load_nyaplot\",false,false);\n",
       "\t    window.dispatchEvent(event);\n",
       "\t    console.log('Finished loading Nyaplotjs');\n",
       "\n",
       "\t};\n",
       "\n",
       "\n",
       "});});\n",
       "}\n"
      ],
      "text/plain": [
       "\"if(window['d3'] === undefined ||\\n   window['Nyaplot'] === undefined){\\n    var path = {\\\"d3\\\":\\\"https://cdnjs.cloudflare.com/ajax/libs/d3/3.5.5/d3.min\\\",\\\"downloadable\\\":\\\"http://cdn.rawgit.com/domitry/d3-downloadable/master/d3-downloadable\\\"};\\n\\n\\n\\n    var shim = {\\\"d3\\\":{\\\"exports\\\":\\\"d3\\\"},\\\"downloadable\\\":{\\\"exports\\\":\\\"downloadable\\\"}};\\n\\n    require.config({paths: path, shim:shim});\\n\\n\\nrequire(['d3'], function(d3){window['d3']=d3;console.log('finished loading d3');require(['downloadable'], function(downloadable){window['downloadable']=downloadable;console.log('finished loading downloadable');\\n\\n\\tvar script = d3.select(\\\"head\\\")\\n\\t    .append(\\\"script\\\")\\n\\t    .attr(\\\"src\\\", \\\"http://cdn.rawgit.com/domitry/Nyaplotjs/master/release/nyaplot.js\\\")\\n\\t    .attr(\\\"async\\\", true);\\n\\n\\tscript[0][0].onload = script[0][0].onreadystatechange = function(){\\n\\n\\n\\t    var event = document.createEvent(\\\"HTMLEvents\\\");\\n\\t    event.initEvent(\\\"load_nyaplot\\\",false,false);\\n\\t    window.dispatchEvent(event);\\n\\t    console.log('Finished loading Nyaplotjs');\\n\\n\\t};\\n\\n\\n});});\\n}\\n\""
      ]
     },
     "metadata": {},
     "output_type": "display_data"
    },
    {
     "data": {
      "text/plain": [
       ":plotly"
      ]
     },
     "execution_count": 1,
     "metadata": {},
     "output_type": "execute_result"
    }
   ],
   "source": [
    "require 'daru'\n",
    "require 'daru_plotting_plotly'\n",
    "\n",
    "Daru.plotting_library = :plotly"
   ]
  },
  {
   "cell_type": "code",
   "execution_count": 35,
   "metadata": {
    "collapsed": false
   },
   "outputs": [
    {
     "data": {
      "text/html": [
       "\n",
       "  <script>\n",
       "  requirejs.config({paths: { 'plotly': ['https://cdn.plot.ly/plotly-latest.min'] }})\n",
       "  </script>\n",
       "\n",
       "\n",
       "<div id=\"3eea6a0c-2b9e-4809-9c90-36019c6a0d8f\" style=\"height: 100%; width: 100%;\"></div>\n",
       "\n",
       "<script>\n",
       " require(['plotly'], function(Plotly) { \n",
       "Plotly.newPlot(\n",
       "  '3eea6a0c-2b9e-4809-9c90-36019c6a0d8f',\n",
       "  [{\"x\":[\"point 0\",\"point 1\",\"point 2\",\"point 3\",\"point 4\",\"point 5\"],\"y\":[0.05696202825440956,0.13291139621969678,0.3101265842067793,0.3101265803501817,0.13291138859042945,0.05696202237850174],\"type\":\"bar\",\"mode\":\"\",\"name\":0}],\n",
       "  {\"width\":1000,\"height\":500,\"title\":\"c=0.7\",\"yaxis\":{\"title\":\"存在確率\"},\"xaxis\":{\"title\":\"点\"}},\n",
       "  {\"linkText\":\"Export to plot.ly\",\"showLink\":true}\n",
       ")\n",
       "\n",
       "window.addEventListener('resize', function() {\n",
       "  Plotly.Plots.resize(document.getElementById('3eea6a0c-2b9e-4809-9c90-36019c6a0d8f'))\n",
       "})\n",
       " }) \n",
       "</script>"
      ],
      "text/plain": [
       "#<Plotly::Offline::HTML:0x007fa02ac51490 @id=\"3eea6a0c-2b9e-4809-9c90-36019c6a0d8f\", @data=[{:x=>[\"point 0\", \"point 1\", \"point 2\", \"point 3\", \"point 4\", \"point 5\"], :y=>[0.05696202825440956, 0.13291139621969678, 0.3101265842067793, 0.3101265803501817, 0.13291138859042945, 0.05696202237850174], :type=>:bar, :mode=>\"\", :name=>0}], @layout={:width=>1000, :height=>500, :title=>\"c=0.7\", :yaxis=>{:title=>\"存在確率\"}, :xaxis=>{:title=>\"点\"}}, @config={:linkText=>\"Export to plot.ly\", :showLink=>true}, @embedded=true>"
      ]
     },
     "metadata": {},
     "output_type": "display_data"
    },
    {
     "data": {
      "text/html": [
       "\n",
       "  <script>\n",
       "  requirejs.config({paths: { 'plotly': ['https://cdn.plot.ly/plotly-latest.min'] }})\n",
       "  </script>\n",
       "\n",
       "\n",
       "<div id=\"f7a2901e-b721-4276-9327-18a77d74f882\" style=\"height: 100%; width: 100%;\"></div>\n",
       "\n",
       "<script>\n",
       " require(['plotly'], function(Plotly) { \n",
       "Plotly.newPlot(\n",
       "  'f7a2901e-b721-4276-9327-18a77d74f882',\n",
       "  [{\"x\":[\"point 0\",\"point 1\",\"point 2\",\"point 3\",\"point 4\",\"point 5\"],\"y\":[0.16688663769342368,0.16682769663444416,0.16672560772564388,0.16660772560768672,0.16650563669888832,0.16644669563991069],\"type\":\"bar\",\"mode\":\"\",\"name\":0}],\n",
       "  {\"width\":1000,\"height\":500,\"title\":\"c=0.5\",\"yaxis\":{\"title\":\"存在確率\"},\"xaxis\":{\"title\":\"点\"}},\n",
       "  {\"linkText\":\"Export to plot.ly\",\"showLink\":true}\n",
       ")\n",
       "\n",
       "window.addEventListener('resize', function() {\n",
       "  Plotly.Plots.resize(document.getElementById('f7a2901e-b721-4276-9327-18a77d74f882'))\n",
       "})\n",
       " }) \n",
       "</script>"
      ],
      "text/plain": [
       "#<Plotly::Offline::HTML:0x007fa02ab9a628 @id=\"f7a2901e-b721-4276-9327-18a77d74f882\", @data=[{:x=>[\"point 0\", \"point 1\", \"point 2\", \"point 3\", \"point 4\", \"point 5\"], :y=>[0.16688663769342368, 0.16682769663444416, 0.16672560772564388, 0.16660772560768672, 0.16650563669888832, 0.16644669563991069], :type=>:bar, :mode=>\"\", :name=>0}], @layout={:width=>1000, :height=>500, :title=>\"c=0.5\", :yaxis=>{:title=>\"存在確率\"}, :xaxis=>{:title=>\"点\"}}, @config={:linkText=>\"Export to plot.ly\", :showLink=>true}, @embedded=true>"
      ]
     },
     "metadata": {},
     "output_type": "display_data"
    },
    {
     "data": {
      "text/html": [
       "\n",
       "  <script>\n",
       "  requirejs.config({paths: { 'plotly': ['https://cdn.plot.ly/plotly-latest.min'] }})\n",
       "  </script>\n",
       "\n",
       "\n",
       "<div id=\"1849c256-6a61-4cc4-bab1-82ace21572bb\" style=\"height: 100%; width: 100%;\"></div>\n",
       "\n",
       "<script>\n",
       " require(['plotly'], function(Plotly) { \n",
       "Plotly.newPlot(\n",
       "  '1849c256-6a61-4cc4-bab1-82ace21572bb',\n",
       "  [{\"x\":[\"point 0\",\"point 1\",\"point 2\",\"point 3\",\"point 4\",\"point 5\"],\"y\":[0.20231605048573176,0.16528423009786702,0.13482958072383122,0.13427340930939075,0.16361942438718344,0.19967730499599812],\"type\":\"bar\",\"mode\":\"\",\"name\":0}],\n",
       "  {\"width\":1000,\"height\":500,\"title\":\"c=0.45\",\"yaxis\":{\"title\":\"存在確率\"},\"xaxis\":{\"title\":\"点\"}},\n",
       "  {\"linkText\":\"Export to plot.ly\",\"showLink\":true}\n",
       ")\n",
       "\n",
       "window.addEventListener('resize', function() {\n",
       "  Plotly.Plots.resize(document.getElementById('1849c256-6a61-4cc4-bab1-82ace21572bb'))\n",
       "})\n",
       " }) \n",
       "</script>"
      ],
      "text/plain": [
       "#<Plotly::Offline::HTML:0x007fa02c48b5b0 @id=\"1849c256-6a61-4cc4-bab1-82ace21572bb\", @data=[{:x=>[\"point 0\", \"point 1\", \"point 2\", \"point 3\", \"point 4\", \"point 5\"], :y=>[0.20231605048573176, 0.16528423009786702, 0.13482958072383122, 0.13427340930939075, 0.16361942438718344, 0.19967730499599812], :type=>:bar, :mode=>\"\", :name=>0}], @layout={:width=>1000, :height=>500, :title=>\"c=0.45\", :yaxis=>{:title=>\"存在確率\"}, :xaxis=>{:title=>\"点\"}}, @config={:linkText=>\"Export to plot.ly\", :showLink=>true}, @embedded=true>"
      ]
     },
     "metadata": {},
     "output_type": "display_data"
    }
   ],
   "source": [
    "['0.7', '0.5', '0.45'].each do |c|\n",
    "  Daru::DataFrame.from_csv(\"./c_#{c}.csv\").filter_rows { |row| row['t'] == 60 }.tap do |df|\n",
    "    df.delete_vector 't'\n",
    "    df.index = [:prob]\n",
    "    t_df = df.transpose\n",
    "    t_df.add_vector :name, df.vectors.to_a\n",
    "    t_df.plot(type: :bar, x: :name, y: :prob).tap do |plot|\n",
    "      plot.layout.title = \"c=#{c}\"\n",
    "      plot.layout.yaxis = { title: '存在確率' }\n",
    "      plot.layout.xaxis = { title: '点' }\n",
    "      plot.show\n",
    "    end\n",
    "  end\n",
    "end\n",
    "nil"
   ]
  },
  {
   "cell_type": "markdown",
   "metadata": {},
   "source": [
    "# 考察\n",
    "\n",
    "問の表１について、各列の確率を足し合わせると、\n",
    "\n",
    "- 点0,5に移動してくる確率の合計$P_x = s + 2(1-s)(1-c)$\n",
    "- 点1,4に移動してくる確率の合計$P_y = s + 2(1-s)1 = 1$\n",
    "- 点2,3に移動してくる確率の合計$P_z = s + 2(1-s)c$\n",
    "\n",
    "のように表せる。\n",
    "\n",
    "これを見るとわかるように、$c = 0.5$のとき、$P_x, P_y, P_z$のどれについても$1$となるので、定常状態においては、どの点にいる確率も等しくなると考えられる。\n",
    "\n",
    "また、$c > 0.5$のとき、$P_x < P_y < P_z$となるので、定常状態においても、点0,5にいる確率が一番小さく、点2,3にいる確率が一番大きいと考えられる。\n",
    "\n",
    "同様に、$c < 0.5$のとき、$P_x > P_y > P_z$となることから、それぞれ、定常状態においては、点0,5にいる確率が一番大きく、点2,3にいる確率が一番小さいと考えられる。"
   ]
  }
 ],
 "metadata": {
  "kernelspec": {
   "display_name": "Ruby 2.3.0",
   "language": "ruby",
   "name": "ruby"
  },
  "language_info": {
   "file_extension": ".rb",
   "mimetype": "application/x-ruby",
   "name": "ruby",
   "version": "2.3.0"
  }
 },
 "nbformat": 4,
 "nbformat_minor": 0
}
