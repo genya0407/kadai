{
 "cells": [
  {
   "cell_type": "code",
   "execution_count": 1,
   "metadata": {
    "collapsed": false
   },
   "outputs": [
    {
     "data": {
      "application/javascript": [
       "if(window['d3'] === undefined ||\n",
       "   window['Nyaplot'] === undefined){\n",
       "    var path = {\"d3\":\"https://cdnjs.cloudflare.com/ajax/libs/d3/3.5.5/d3.min\",\"downloadable\":\"http://cdn.rawgit.com/domitry/d3-downloadable/master/d3-downloadable\"};\n",
       "\n",
       "\n",
       "\n",
       "    var shim = {\"d3\":{\"exports\":\"d3\"},\"downloadable\":{\"exports\":\"downloadable\"}};\n",
       "\n",
       "    require.config({paths: path, shim:shim});\n",
       "\n",
       "\n",
       "require(['d3'], function(d3){window['d3']=d3;console.log('finished loading d3');require(['downloadable'], function(downloadable){window['downloadable']=downloadable;console.log('finished loading downloadable');\n",
       "\n",
       "\tvar script = d3.select(\"head\")\n",
       "\t    .append(\"script\")\n",
       "\t    .attr(\"src\", \"http://cdn.rawgit.com/domitry/Nyaplotjs/master/release/nyaplot.js\")\n",
       "\t    .attr(\"async\", true);\n",
       "\n",
       "\tscript[0][0].onload = script[0][0].onreadystatechange = function(){\n",
       "\n",
       "\n",
       "\t    var event = document.createEvent(\"HTMLEvents\");\n",
       "\t    event.initEvent(\"load_nyaplot\",false,false);\n",
       "\t    window.dispatchEvent(event);\n",
       "\t    console.log('Finished loading Nyaplotjs');\n",
       "\n",
       "\t};\n",
       "\n",
       "\n",
       "});});\n",
       "}\n"
      ],
      "text/plain": [
       "\"if(window['d3'] === undefined ||\\n   window['Nyaplot'] === undefined){\\n    var path = {\\\"d3\\\":\\\"https://cdnjs.cloudflare.com/ajax/libs/d3/3.5.5/d3.min\\\",\\\"downloadable\\\":\\\"http://cdn.rawgit.com/domitry/d3-downloadable/master/d3-downloadable\\\"};\\n\\n\\n\\n    var shim = {\\\"d3\\\":{\\\"exports\\\":\\\"d3\\\"},\\\"downloadable\\\":{\\\"exports\\\":\\\"downloadable\\\"}};\\n\\n    require.config({paths: path, shim:shim});\\n\\n\\nrequire(['d3'], function(d3){window['d3']=d3;console.log('finished loading d3');require(['downloadable'], function(downloadable){window['downloadable']=downloadable;console.log('finished loading downloadable');\\n\\n\\tvar script = d3.select(\\\"head\\\")\\n\\t    .append(\\\"script\\\")\\n\\t    .attr(\\\"src\\\", \\\"http://cdn.rawgit.com/domitry/Nyaplotjs/master/release/nyaplot.js\\\")\\n\\t    .attr(\\\"async\\\", true);\\n\\n\\tscript[0][0].onload = script[0][0].onreadystatechange = function(){\\n\\n\\n\\t    var event = document.createEvent(\\\"HTMLEvents\\\");\\n\\t    event.initEvent(\\\"load_nyaplot\\\",false,false);\\n\\t    window.dispatchEvent(event);\\n\\t    console.log('Finished loading Nyaplotjs');\\n\\n\\t};\\n\\n\\n});});\\n}\\n\""
      ]
     },
     "metadata": {},
     "output_type": "display_data"
    },
    {
     "data": {
      "text/plain": [
       ":plotly"
      ]
     },
     "execution_count": 1,
     "metadata": {},
     "output_type": "execute_result"
    }
   ],
   "source": [
    "require 'daru'\n",
    "require 'daru_plotting_plotly'\n",
    "\n",
    "Daru.plotting_library = :plotly"
   ]
  },
  {
   "cell_type": "code",
   "execution_count": 32,
   "metadata": {
    "collapsed": false
   },
   "outputs": [
    {
     "data": {
      "text/html": [
       "\n",
       "  <script>\n",
       "  requirejs.config({paths: { 'plotly': ['https://cdn.plot.ly/plotly-latest.min'] }})\n",
       "  </script>\n",
       "\n",
       "\n",
       "<div id=\"5c2f6a30-8ead-4144-a06b-6be5994b66c6\" style=\"height: 100%; width: 100%;\"></div>\n",
       "\n",
       "<script>\n",
       " require(['plotly'], function(Plotly) { \n",
       "Plotly.newPlot(\n",
       "  '5c2f6a30-8ead-4144-a06b-6be5994b66c6',\n",
       "  [{\"x\":[\"point 0\",\"point 1\",\"point 2\",\"point 3\",\"point 4\",\"point 5\"],\"y\":[0.05696202825440956,0.13291139621969678,0.3101265842067793,0.3101265803501817,0.13291138859042945,0.05696202237850174],\"type\":\"bar\",\"mode\":\"\",\"name\":0}],\n",
       "  {\"width\":1000,\"height\":500,\"title\":\"s=0.15, c=0.7\"},\n",
       "  {\"linkText\":\"Export to plot.ly\",\"showLink\":true}\n",
       ")\n",
       "\n",
       "window.addEventListener('resize', function() {\n",
       "  Plotly.Plots.resize(document.getElementById('5c2f6a30-8ead-4144-a06b-6be5994b66c6'))\n",
       "})\n",
       " }) \n",
       "</script>"
      ],
      "text/plain": [
       "#<Plotly::Offline::HTML:0x007fa02c218c38 @id=\"5c2f6a30-8ead-4144-a06b-6be5994b66c6\", @data=[{:x=>[\"point 0\", \"point 1\", \"point 2\", \"point 3\", \"point 4\", \"point 5\"], :y=>[0.05696202825440956, 0.13291139621969678, 0.3101265842067793, 0.3101265803501817, 0.13291138859042945, 0.05696202237850174], :type=>:bar, :mode=>\"\", :name=>0}], @layout={:width=>1000, :height=>500, :title=>\"s=0.15, c=0.7\"}, @config={:linkText=>\"Export to plot.ly\", :showLink=>true}, @embedded=true>"
      ]
     },
     "metadata": {},
     "output_type": "display_data"
    },
    {
     "data": {
      "text/html": [
       "\n",
       "  <script>\n",
       "  requirejs.config({paths: { 'plotly': ['https://cdn.plot.ly/plotly-latest.min'] }})\n",
       "  </script>\n",
       "\n",
       "\n",
       "<div id=\"1ad982f8-e176-47b8-8f01-e4ff4897f27d\" style=\"height: 100%; width: 100%;\"></div>\n",
       "\n",
       "<script>\n",
       " require(['plotly'], function(Plotly) { \n",
       "Plotly.newPlot(\n",
       "  '1ad982f8-e176-47b8-8f01-e4ff4897f27d',\n",
       "  [{\"x\":[\"point 0\",\"point 1\",\"point 2\",\"point 3\",\"point 4\",\"point 5\"],\"y\":[0.16688663769342368,0.16682769663444416,0.16672560772564388,0.16660772560768672,0.16650563669888832,0.16644669563991069],\"type\":\"bar\",\"mode\":\"\",\"name\":0}],\n",
       "  {\"width\":1000,\"height\":500,\"title\":\"s=0.15, c=0.5\"},\n",
       "  {\"linkText\":\"Export to plot.ly\",\"showLink\":true}\n",
       ")\n",
       "\n",
       "window.addEventListener('resize', function() {\n",
       "  Plotly.Plots.resize(document.getElementById('1ad982f8-e176-47b8-8f01-e4ff4897f27d'))\n",
       "})\n",
       " }) \n",
       "</script>"
      ],
      "text/plain": [
       "#<Plotly::Offline::HTML:0x007fa02aa62d00 @id=\"1ad982f8-e176-47b8-8f01-e4ff4897f27d\", @data=[{:x=>[\"point 0\", \"point 1\", \"point 2\", \"point 3\", \"point 4\", \"point 5\"], :y=>[0.16688663769342368, 0.16682769663444416, 0.16672560772564388, 0.16660772560768672, 0.16650563669888832, 0.16644669563991069], :type=>:bar, :mode=>\"\", :name=>0}], @layout={:width=>1000, :height=>500, :title=>\"s=0.15, c=0.5\"}, @config={:linkText=>\"Export to plot.ly\", :showLink=>true}, @embedded=true>"
      ]
     },
     "metadata": {},
     "output_type": "display_data"
    },
    {
     "data": {
      "text/html": [
       "\n",
       "  <script>\n",
       "  requirejs.config({paths: { 'plotly': ['https://cdn.plot.ly/plotly-latest.min'] }})\n",
       "  </script>\n",
       "\n",
       "\n",
       "<div id=\"91927ddc-e540-4e13-b96c-2c1566e6f735\" style=\"height: 100%; width: 100%;\"></div>\n",
       "\n",
       "<script>\n",
       " require(['plotly'], function(Plotly) { \n",
       "Plotly.newPlot(\n",
       "  '91927ddc-e540-4e13-b96c-2c1566e6f735',\n",
       "  [{\"x\":[\"point 0\",\"point 1\",\"point 2\",\"point 3\",\"point 4\",\"point 5\"],\"y\":[0.20231605048573176,0.16528423009786702,0.13482958072383122,0.13427340930939075,0.16361942438718344,0.19967730499599812],\"type\":\"bar\",\"mode\":\"\",\"name\":0}],\n",
       "  {\"width\":1000,\"height\":500,\"title\":\"s=0.15, c=0.45\"},\n",
       "  {\"linkText\":\"Export to plot.ly\",\"showLink\":true}\n",
       ")\n",
       "\n",
       "window.addEventListener('resize', function() {\n",
       "  Plotly.Plots.resize(document.getElementById('91927ddc-e540-4e13-b96c-2c1566e6f735'))\n",
       "})\n",
       " }) \n",
       "</script>"
      ],
      "text/plain": [
       "#<Plotly::Offline::HTML:0x007fa02a852d30 @id=\"91927ddc-e540-4e13-b96c-2c1566e6f735\", @data=[{:x=>[\"point 0\", \"point 1\", \"point 2\", \"point 3\", \"point 4\", \"point 5\"], :y=>[0.20231605048573176, 0.16528423009786702, 0.13482958072383122, 0.13427340930939075, 0.16361942438718344, 0.19967730499599812], :type=>:bar, :mode=>\"\", :name=>0}], @layout={:width=>1000, :height=>500, :title=>\"s=0.15, c=0.45\"}, @config={:linkText=>\"Export to plot.ly\", :showLink=>true}, @embedded=true>"
      ]
     },
     "metadata": {},
     "output_type": "display_data"
    }
   ],
   "source": [
    "['0.7', '0.5', '0.45'].each do |c|\n",
    "  Daru::DataFrame.from_csv(\"./c_#{c}.csv\").filter_rows { |row| row['t'] == 60 }.tap do |df|\n",
    "    df.delete_vector 't'\n",
    "    df.index = [:prob]\n",
    "    t_df = df.transpose\n",
    "    t_df.add_vector :name, df.vectors.to_a\n",
    "    t_df.plot(type: :bar, x: :name, y: :prob).tap do |plot|\n",
    "      plot.layout.title = \"s=0.15, c=#{c}\"\n",
    "      plot.show\n",
    "    end\n",
    "  end\n",
    "end\n",
    "nil"
   ]
  }
 ],
 "metadata": {
  "kernelspec": {
   "display_name": "Ruby 2.3.0",
   "language": "ruby",
   "name": "ruby"
  },
  "language_info": {
   "file_extension": ".rb",
   "mimetype": "application/x-ruby",
   "name": "ruby",
   "version": "2.3.0"
  }
 },
 "nbformat": 4,
 "nbformat_minor": 0
}
